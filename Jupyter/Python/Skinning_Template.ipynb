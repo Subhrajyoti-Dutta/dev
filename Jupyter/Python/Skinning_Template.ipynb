{
 "cells": [
  {
   "cell_type": "markdown",
   "id": "f4781b3a",
   "metadata": {
    "id": "f4781b3a"
   },
   "source": [
    "# ACM Summer School on Shape Modeling 2022\n",
    "## Mesh Deformation using Skinning - July 26, 2022\n",
    "## Aditya Tatu, DAIICT Gandhinagar"
   ]
  },
  {
   "cell_type": "code",
   "execution_count": 1,
   "id": "0143b42b",
   "metadata": {
    "id": "0143b42b"
   },
   "outputs": [],
   "source": [
    "# Import IGL and required functions\n",
    "import igl\n",
    "import numpy as np\n",
    "from meshplot import plot, subplot, interact\n",
    "import matplotlib.pyplot as plt\n",
    "from mat4py import loadmat"
   ]
  },
  {
   "cell_type": "markdown",
   "id": "44e6dfcf",
   "metadata": {
    "id": "44e6dfcf"
   },
   "source": [
    "### Run the code below to plot the meshes\n",
    "#### Help for Meshplot: https://skoch9.github.io/meshplot/tutorial/ \n",
    "#### Help for Libigl in Python: https://libigl.github.io/libigl-python-bindings/"
   ]
  },
  {
   "cell_type": "code",
   "execution_count": 14,
   "id": "ce497230",
   "metadata": {
    "colab": {
     "referenced_widgets": [
      "54dcf62521084c259ea6ac21528ab12f"
     ]
    },
    "id": "ce497230",
    "outputId": "bef41fe5-e744-4a4b-c42c-42dd34539b25",
    "scrolled": true
   },
   "outputs": [
    {
     "name": "stdout",
     "output_type": "stream",
     "text": [
      "(4802, 3) (9600, 3)\n"
     ]
    },
    {
     "data": {
      "application/vnd.jupyter.widget-view+json": {
       "model_id": "50da4063dabb4430947940b71d457603",
       "version_major": 2,
       "version_minor": 0
      },
      "text/plain": [
       "Renderer(camera=PerspectiveCamera(children=(DirectionalLight(color='white', intensity=0.6, position=(0.0, 0.0,…"
      ]
     },
     "metadata": {},
     "output_type": "display_data"
    },
    {
     "name": "stdout",
     "output_type": "stream",
     "text": [
      "Invalid color array given! Supported are numpy arrays. <class 'numpy.ndarray'>\n"
     ]
    },
    {
     "data": {
      "text/plain": [
       "1"
      ]
     },
     "execution_count": 14,
     "metadata": {},
     "output_type": "execute_result"
    }
   ],
   "source": [
    "# Uncomment the one that you wish to plot\n",
    "###### Cylinder #############\n",
    "dt = igl.read_off(\"cylinder.off\")\n",
    "h = [4800,4801] # Handles for Cylinder\n",
    "#############################\n",
    "###### Cactus ###############\n",
    "# dt = igl.read_off(\"cactus.off\")\n",
    "# h = [2233,4558,3020, 1796] # Handles for Cactus\n",
    "#############################\n",
    "\n",
    "v = dt[0]\n",
    "f = dt[1]\n",
    "print(v.shape,f.shape)\n",
    "p = plot(v, f)\n",
    "p.add_points(v[h,:], c=np.array([1.0,0.0,0.0]), shading={\"point_size\": 1}) # point_size 1 for Cylinder, 0.05 for Cactus"
   ]
  },
  {
   "cell_type": "code",
   "execution_count": 3,
   "id": "0b435a89",
   "metadata": {
    "id": "0b435a89"
   },
   "outputs": [],
   "source": [
    "#######################################################################################\n",
    "# Skinning Weights-------------\n",
    "# Input: h - array containing handle indices\n",
    "#        v - nov x 3 array containing vertex coordinates in each row. nov is the number of vertices in the mesh.\n",
    "#        f - nof x 3 array containing indices of the array 'v', each row of f points to vertices \n",
    "#            of a triangle in the mesh\n",
    "#     wttype - If wttype = 'InvDist' it will compute Inverse Euclidean distance based weights. Else, it will load \n",
    "#              pre-computed BBW weights for either Cylinder or Cactus mesh with handles h=[4800, 4801]\n",
    "#              (bottom, top) for Cylinder, h=[2233,4558,3020, 1796],i.e, bottom, top, left and right tips for \n",
    "#              Cactus.\n",
    "# Output: w - nov x noh matrix, nov is the number of vertices, noh is the number of handles. Each column \n",
    "#             corresponds to the weight associated with one handle over the entire mesh.\n",
    "#######################################################################################\n",
    "def skinningweights(h,v,f,wttype):\n",
    "    noh = len(h)\n",
    "    nov = v.shape[0]\n",
    "    W = np.zeros((nov,noh))\n",
    "    if wttype == 'InvDist':\n",
    "        for i in np.arange(noh):\n",
    "            W[:,i] = 1/(1+np.linalg.norm(v - v[h[i],:],axis=1))\n",
    "        for i in np.arange(nov):\n",
    "            W[i,:] = W[i,:]/(np.sum(W[i,:]))\n",
    "    else:\n",
    "        ############################################################\n",
    "        # Else use Bounded-Biharmonic Weights. These weights have been pre-computed and saved for Cylinder\n",
    "        # and Cactus meshes in the files: BBW_cylinder.mat and BBW_cactus.mat. These MATLAB files can be \n",
    "        # loaded in python using the function 'loadmat'.\n",
    "        # Note that for Cylinder the handles are H=[4800, 4801](bottom, top), for Cactus the handles are \n",
    "        #H = [2233,4558,3020, 1796],i.e, bottom, top, left and right tips.\n",
    "        ############################################################\n",
    "        data = loadmat('BBW_cylinder.mat') # Uncomment to load BBW weights for Cylinder mesh,\n",
    "        #data = loadmat('BBW_cactus.mat') # Uncomment to load BBW weights for Cactus mesh,\n",
    "        H = np.array(data['H'])\n",
    "        W = np.array(data['w'])\n",
    "    return W                 "
   ]
  },
  {
   "cell_type": "markdown",
   "id": "09ce82a4",
   "metadata": {
    "id": "09ce82a4"
   },
   "source": [
    "## Q.1. Display the mesh with vertex color defined by Skinning weights. Try out Cylinder and Cactus mesh with Inverse Distance and Bounded Biharmonic Weights, and make your observations"
   ]
  },
  {
   "cell_type": "code",
   "execution_count": 11,
   "id": "f7c343cc",
   "metadata": {
    "colab": {
     "referenced_widgets": [
      "0a72746fdbbc4494bbf2711b14603164"
     ]
    },
    "id": "f7c343cc",
    "outputId": "248fea4d-b98c-4c55-a538-95f6b9190495"
   },
   "outputs": [
    {
     "data": {
      "application/vnd.jupyter.widget-view+json": {
       "model_id": "353e3fe6d2a84022be6c39a2fd5510d4",
       "version_major": 2,
       "version_minor": 0
      },
      "text/plain": [
       "Renderer(camera=PerspectiveCamera(children=(DirectionalLight(color='white', intensity=0.6, position=(0.0, 0.0,…"
      ]
     },
     "metadata": {},
     "output_type": "display_data"
    },
    {
     "name": "stdout",
     "output_type": "stream",
     "text": [
      "Invalid color array given! Supported are numpy arrays. <class 'numpy.ndarray'>\n"
     ]
    },
    {
     "data": {
      "text/plain": [
       "1"
      ]
     },
     "execution_count": 11,
     "metadata": {},
     "output_type": "execute_result"
    }
   ],
   "source": [
    "# Uncomment the one that you wish to plot\n",
    "###### Cylinder #############\n",
    "dt = igl.read_off(\"cylinder.off\")\n",
    "h = [4800,4801] # Handles for Cylinder\n",
    "#############################\n",
    "###### Cactus ###############\n",
    "# dt = igl.read_off(\"cactus.off\")\n",
    "# h = [2233,4558,3020, 1796] # Handles for Cactus\n",
    "#############################\n",
    "\n",
    "### Skinning Weights --------------\n",
    "w = skinningweights(h,v,f,'InvDist') # Uncomment for Inverse Distance weights\n",
    "#w = skinningweights(h,v,f,'BBW') # Uncomment for BBW weights\n",
    "######################################\n",
    "\n",
    "### Display meshes------------------------------\n",
    "p=plot(v,f,c=w[:,0]) # Color is given as per the weights of the first handle. \n",
    "p.add_points(v[h,:], c=np.array([1.0,0.0,0.0]), shading={\"point_size\": 1}) # point_size 1 for Cylinder, 0.05 for Cactus\n",
    "#################################################"
   ]
  },
  {
   "cell_type": "code",
   "execution_count": 5,
   "id": "4a62670a",
   "metadata": {
    "id": "4a62670a"
   },
   "outputs": [],
   "source": [
    "#####################################################################\n",
    "# Convert axis-angle representation to 3 x 3 Rotation matrix\n",
    "# Rodrigues formula {R = I + sin(theta)*[n]x+ (1-cos(theta)) (Nx x Nx )}, where x denotes Vector cross product.\n",
    "# Input: \n",
    "#     theta: Angle of rotation. Scalar\n",
    "#     n    : Axis of rotation. 3x1 vector\n",
    "# Output: \n",
    "#     R    : 3x3 Rotation matrix \n",
    "#####################################################################\n",
    "def RodriguesRotation(theta,n):\n",
    "    Nx = np.zeros([3,3])\n",
    "    Nx[0,1],Nx[0,2],Nx[1,2]= -n[2],n[1],-n[0]\n",
    "    Nx[1,0],Nx[2,0],Nx[2,1]=  n[2],-n[1],n[0]\n",
    "    \n",
    "    # Rodrigues' rotation formula\n",
    "    R = np.eye(3) + np.sin(theta)*Nx+ (1-np.cos(theta))*(Nx@Nx)\n",
    "    \n",
    "    return R"
   ]
  },
  {
   "cell_type": "code",
   "execution_count": 6,
   "id": "c1def666",
   "metadata": {
    "id": "c1def666"
   },
   "outputs": [],
   "source": [
    "#####################################################################\n",
    "# Quaternion transformation q application to a vector v\n",
    "# Input: q - Unit quaternion that encodes the transformation to be applied\n",
    "#        v - the 3 x 1 vertex coordinates on which the transformation encoded in q has to be applied.\n",
    "# Output: defv = q . v . q*. is a 3 x 1 vector of coordinates of deformed vertex.\n",
    "#####################################################################\n",
    "def myQuatonv(q,v):\n",
    "    qv = np.append(0,v,axis=0)\n",
    "    vdeftemp = qmult(q,qmult(qv,[q[0],-q[1],-q[2],-q[3]]))\n",
    "    defv = vdeftemp[1:4]\n",
    "    return defv\n",
    "\n",
    "#####################################################################\n",
    "# Multiplication of two quaternions.    \n",
    "# Input: quaternion 1, quaternion0 - (4,1) vectors to be multiplied\n",
    "# Output: product of the two quaternions\n",
    "#####################################################################\n",
    "def qmult(quaternion1, quaternion0):\n",
    "    w0, x0, y0, z0 = quaternion0\n",
    "    w1, x1, y1, z1 = quaternion1\n",
    "    return np.array([-x1 * x0 - y1 * y0 - z1 * z0 + w1 * w0,\n",
    "                     x1 * w0 + y1 * z0 - z1 * y0 + w1 * x0,\n",
    "                     -x1 * z0 + y1 * w0 + z1 * x0 + w1 * y0,\n",
    "                     x1 * y0 - y1 * x0 + z1 * w0 + w1 * z0], dtype=np.float64)    "
   ]
  },
  {
   "cell_type": "markdown",
   "id": "22ec3f16",
   "metadata": {
    "id": "22ec3f16"
   },
   "source": [
    "## Q.2. The following code implements blending of matrices, followed by applying the blended matrices on the original mesh vertices, and returns the deformed vertices. It linearly blends transformations or quaternions, as per the user input. Complete the code."
   ]
  },
  {
   "cell_type": "code",
   "execution_count": 8,
   "id": "e5a2c86b",
   "metadata": {
    "id": "e5a2c86b"
   },
   "outputs": [
    {
     "ename": "IndentationError",
     "evalue": "unindent does not match any outer indentation level (<tokenize>, line 38)",
     "output_type": "error",
     "traceback": [
      "\u001b[0;36m  File \u001b[0;32m<tokenize>:38\u001b[0;36m\u001b[0m\n\u001b[0;31m    DefV[i,:] =\u001b[0m\n\u001b[0m    ^\u001b[0m\n\u001b[0;31mIndentationError\u001b[0m\u001b[0;31m:\u001b[0m unindent does not match any outer indentation level\n"
     ]
    }
   ],
   "source": [
    "#############################################\n",
    "# Blends the weights and Handle transformations to obtain per vertex transformation, \n",
    "# which is then applied to vertices of the input mesh to obtain the deformed Mesh\n",
    "# Input: w - nov(number of vert.) x noh(number of handles) matrix, each column containing \n",
    "#            weights of corresponding handles\n",
    "#        H - (noh,) array. Indices of handle vertices from the vertices (v) array\n",
    "#        v - (nov,3) array containing vertex coordinates in each row\n",
    "#      eta - is expected as a 3 x noh matrix, each column containing the axis of rotation transformation\n",
    "#            to be applied to the corresponding handle.\n",
    "#     theta - is expected as a (noh,) array containing the angles of rotations in radians to be applied to \n",
    "#            corresponding handles.\n",
    "#       typ - If typ = 'LBS', the function implements Linear Blend Skinning, otherwise it implements \n",
    "#             Linear Blending of Quaternions.\n",
    "# Output: DefV - is a nov x 3 array containing coordinates of the deformed mesh. We assume same connectivity \n",
    "#             as that of the input mesh.\n",
    "#############################################\n",
    "def BlendWT(w,H,v,eta,theta,typ):\n",
    "    nov = w.shape[0]\n",
    "    noh = len(H)\n",
    "    Tv = np.zeros((3,3,nov))\n",
    "    DefV = np.zeros((nov,3))\n",
    "            \n",
    "    if typ=='LBS':\n",
    "        T = np.zeros((3,3,noh))\n",
    "        for i in np.arange(noh):\n",
    "            # Convert axis-angle representation to matrix representation.\n",
    "            # Fill in your code below.\n",
    "            T[:,:,i] = \n",
    "            \n",
    "        \n",
    "        for i in np.arange(nov):\n",
    "            # Perform LBS below\n",
    "            # Fill in your code below.\n",
    "                Tv[:,:,i] = \n",
    "                \n",
    "            # Apply the blended transformation to each vertex of original mesh.\n",
    "            # Fill in your code below.\n",
    "            DefV[i,:] =  \n",
    "            \n",
    "    else:\n",
    "        #Linear Blending of Unit Quaternions\n",
    "        q = np.zeros((4,noh))\n",
    "        for i in np.arange(noh):\n",
    "            q[:,i] = np.append([np.cos(theta[i]/2)],[np.sin(theta[i]/2)*eta[:,i]])\n",
    "            \n",
    "                \n",
    "        qv = np.zeros((4,nov))\n",
    "        for i in np.arange(nov):\n",
    "            # Perform linear blending of quaternions\n",
    "            # Fill in your code below.\n",
    "            qv[:,i] = \n",
    "            \n",
    "            #Below segment normalizes the quaternion to obtain unit quaternions.\n",
    "            if np.linalg.norm(qv[:,i]) < 1e-15:\n",
    "                qv[:,i] = qv[:,i]\n",
    "            else:\n",
    "                qv[:,i] = qv[:,i]/np.linalg.norm(qv[:,i])\n",
    "            \n",
    "            #Apply transformation encoded as quaternion to corresponding vertex of original mesh\n",
    "            # to obtain Deformed mesh vertex. Fill in your code below.\n",
    "            DefV[i,:] = \n",
    "            \n",
    "    return DefV\n",
    "    "
   ]
  },
  {
   "cell_type": "code",
   "execution_count": null,
   "id": "65643545",
   "metadata": {
    "id": "65643545"
   },
   "outputs": [],
   "source": [
    "#####################################################################\n",
    "# Quaternion to 3D rotation\n",
    "# Input: q - Input unit quaternion as (4x1) vector that is to be converted into 3 x 3 matrix.\n",
    "# Output: R - 3 x 3 rotation matrix.\n",
    "#####################################################################\n",
    "def myQtoSO3(q):\n",
    "    T = np.zeros((3,3))\n",
    "    sintby2 = np.linalg.norm(q[1:len(q)])\n",
    "    costby2 = q[0]\n",
    "    theta = 2*np.arctan2(sintby2,costby2)\n",
    "    if np.abs(sintby2) < 1e-14:\n",
    "        eta = q[1:len(q)]\n",
    "    else:\n",
    "        eta = q[1:len(q)]/sintby2\n",
    "    R = RodriguesRotation(theta,eta)\n",
    "    return R"
   ]
  },
  {
   "cell_type": "markdown",
   "id": "90cbc354",
   "metadata": {
    "id": "90cbc354"
   },
   "source": [
    "## Q.3 . Try out some deformations using Skinning on Cylinder Mesh"
   ]
  },
  {
   "cell_type": "code",
   "execution_count": null,
   "id": "aed2412b",
   "metadata": {
    "id": "aed2412b"
   },
   "outputs": [],
   "source": [
    "#### Read Mesh #########\n",
    "dt = igl.read_off(\"cylinder.off\")\n",
    "v = dt[0]\n",
    "f = dt[1]\n",
    "plot(v,f)\n",
    "#################################\n",
    "#### Handles and Handle deformations ########\n",
    "h = np.array([4800,4801])\n",
    "eta = np.array([[0,0,1],[0,0,1]]).T\n",
    "theta = np.array([0,np.pi])\n",
    "#################################\n",
    "##### Skinning Weights##########\n",
    "w = skinningweights(h,v,f,'InvDist') # Uncomment for InvDist weights\n",
    "#w = skinningweights(h,v,f,'BBW') # Uncomment for BBW weights\n",
    "defv = BlendWT(w,h,v,eta,theta,'LBS')  # Uncomment for LBS blending\n",
    "defv = BlendWT(w,h,v,eta,theta,'LERP') # Uncomment for Linear blending of quaternion\n",
    "plot(defv,f)"
   ]
  },
  {
   "cell_type": "markdown",
   "id": "68360379",
   "metadata": {
    "id": "68360379"
   },
   "source": [
    "## Q.4. Try out some deformations using Skinning on Cactus Mesh"
   ]
  },
  {
   "cell_type": "code",
   "execution_count": null,
   "id": "61e1ddf7",
   "metadata": {
    "id": "61e1ddf7"
   },
   "outputs": [],
   "source": [
    "#### Read Mesh #####################\n",
    "dt = igl.read_off(\"cactus.off\")\n",
    "v = dt[0]\n",
    "f = dt[1]\n",
    "####################################\n",
    "#### Handles and Handle deformations ########\n",
    "h = np.array([2233,4558,3020,1796])\n",
    "eta = np.array([[0,1,0],[1,0,0],[1,0,0],[1,0,0]]).T\n",
    "theta = np.array([0,np.pi/10,0,np.pi/12])\n",
    "################################################\n",
    "##### Skinning Weights##########\n",
    "w = skinningweights(h,v,f,'InvDist') # Uncomment for InvDist weights\n",
    "#w = skinningweights(h,v,f,'BBW') # Uncomment for BBW weights. Remember to change the file to \n",
    "                                  # BBW_Cactus if using BBW weights.\n",
    "\n",
    "defv = BlendWT(w,h,v,eta,theta,'LBS')  # Uncomment for LBS blending\n",
    "defv = BlendWT(w,h,v,eta,theta,'LERP') # Uncomment for Linear blending of quaternion\n",
    "plot(defv,f)"
   ]
  }
 ],
 "metadata": {
  "celltoolbar": "Raw Cell Format",
  "colab": {
   "name": "Skinning_Template.ipynb",
   "provenance": []
  },
  "kernelspec": {
   "display_name": "Python 3 (ipykernel)",
   "language": "python",
   "name": "python3"
  },
  "language_info": {
   "codemirror_mode": {
    "name": "ipython",
    "version": 3
   },
   "file_extension": ".py",
   "mimetype": "text/x-python",
   "name": "python",
   "nbconvert_exporter": "python",
   "pygments_lexer": "ipython3",
   "version": "3.9.12"
  },
  "varInspector": {
   "cols": {
    "lenName": 16,
    "lenType": 16,
    "lenVar": 40
   },
   "kernels_config": {
    "python": {
     "delete_cmd_postfix": "",
     "delete_cmd_prefix": "del ",
     "library": "var_list.py",
     "varRefreshCmd": "print(var_dic_list())"
    },
    "r": {
     "delete_cmd_postfix": ") ",
     "delete_cmd_prefix": "rm(",
     "library": "var_list.r",
     "varRefreshCmd": "cat(var_dic_list()) "
    }
   },
   "types_to_exclude": [
    "module",
    "function",
    "builtin_function_or_method",
    "instance",
    "_Feature"
   ],
   "window_display": false
  }
 },
 "nbformat": 4,
 "nbformat_minor": 5
}
