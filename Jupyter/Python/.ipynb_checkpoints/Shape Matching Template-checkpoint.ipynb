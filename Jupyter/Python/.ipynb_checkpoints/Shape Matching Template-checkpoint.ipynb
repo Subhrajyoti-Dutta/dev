{
 "cells": [
  {
   "cell_type": "markdown",
   "id": "87cb8cb4",
   "metadata": {},
   "source": [
    "# ACM Summer School on Shape Modeling - 2022\n",
    "# IIIT Delhi\n",
    "## Rigid and Non-Rigid Shape Matching - July 26, 2022\n",
    "## Aditya Tatu, DAIICT Gandhinagar"
   ]
  },
  {
   "cell_type": "code",
   "execution_count": null,
   "id": "e5f87ee5",
   "metadata": {},
   "outputs": [],
   "source": []
  },
  {
   "cell_type": "code",
   "execution_count": 4,
   "id": "716f6a30",
   "metadata": {},
   "outputs": [],
   "source": [
    "# Import required packages\n",
    "%matplotlib notebook\n",
    "import igl\n",
    "import scipy as sp\n",
    "import numpy as np\n",
    "from meshplot import plot, subplot, interact\n",
    "import matplotlib.pyplot as plt\n",
    "from matplotlib import cm\n",
    "from mpl_toolkits.mplot3d import axes3d\n",
    "import os\n",
    "root_folder = os.getcwd()"
   ]
  },
  {
   "cell_type": "markdown",
   "id": "bfd82c22",
   "metadata": {},
   "source": [
    "# 1. Rigid Shape Matching"
   ]
  },
  {
   "cell_type": "markdown",
   "id": "8639d8d8",
   "metadata": {},
   "source": [
    "## Iterative Closest point(ICP) Matching Algorithm\n",
    "#### You are given functions that will help you write the code for ICP algorithm\n",
    "#### 1: Find Correspondences based on Closest Euclidean distance point: findCorr\n",
    "#### 2: Given two sets of points X and Y, Map X using the optimal rigid transformation that minimizes least square\n",
    "####       error between X and Y: myrigidalignment"
   ]
  },
  {
   "cell_type": "code",
   "execution_count": 37,
   "id": "1bcde853",
   "metadata": {},
   "outputs": [],
   "source": [
    "# Returns indices of points in Y that are closest to each point in X. If X is px3, and Y is qx3 the returned \n",
    "# array size is p\n",
    "def findCorr(X,Y):\n",
    "    ns = X.shape[0]\n",
    "    Corr = np.zeros((ns))\n",
    "    for j in np.arange(ns):\n",
    "        d = np.linalg.norm(Y-X[j],axis=1)\n",
    "        Corr[j] = np.argmin(d)\n",
    "    Corr = Corr.astype(int)\n",
    "    return Corr"
   ]
  },
  {
   "cell_type": "code",
   "execution_count": 38,
   "id": "f81df402",
   "metadata": {},
   "outputs": [],
   "source": [
    "# Shape of X and Y must be N x 3\n",
    "# Function that returns the aligned set of points X_new obtained by rigidly aligning points X to Y\n",
    "# Function does not assume that X and Y are origin-centered.\n",
    "def myrigidalign(X,Y):\n",
    "    y_mn = np.mean(Y,axis=0)\n",
    "    X = X - np.mean(X,axis=0)\n",
    "    Xcorr = np.dot(X,(Y-y_mn).T)\n",
    "    uu,ss,vv = np.linalg.svd(Xcorr)\n",
    "    dg = np.diag([1,1,np.linalg.det(np.dot(vv.T,uu.T))]) #Peculiar compared to MATLAB\n",
    "    R = np.dot(np.dot(vv.T,dg),uu.T)\n",
    "    Xaligned = np.dot(R,X.T).T + y_mn\n",
    "    return Xaligned\n",
    "    \n",
    "    "
   ]
  },
  {
   "cell_type": "markdown",
   "id": "d4586730",
   "metadata": {},
   "source": [
    "## Q.1 Complete the code below for ICP algorithm using findCorr and myrigidalign"
   ]
  },
  {
   "cell_type": "code",
   "execution_count": null,
   "id": "42e001d5",
   "metadata": {},
   "outputs": [],
   "source": [
    "# Use the above functions to complete the following function\n",
    "def myICP(vsrc,vtgt):\n",
    "    \n",
    "    # Step 1: Compute mean centered vsrc\n",
    "    # Step 2: Use a new variable that stores vsrc after every iteration\n",
    "    # Step 2: Initialize a loop based on least square error\n",
    "    # Step 3: Compute correspondence between current vsrc and vtgt\n",
    "    # Step 4: Using the correspondence, select the appropriate subset of vtgt in the right order\n",
    "    # Step 5: Rigidly align \"original centered vsrc\" with the above subset of vtgt, to obtain a new vsrc\n",
    "    # Step 6: Compute the new error, and check whether the error is still decreasing. If not, STOP.    "
   ]
  },
  {
   "cell_type": "code",
   "execution_count": null,
   "id": "f0a3b3af",
   "metadata": {},
   "outputs": [],
   "source": [
    "# Run Examples for ICP\n",
    "# Use cat0.off as target and cat0h2.off as source\n",
    "vh, fh = igl.read_triangle_mesh(os.path.join(root_folder, \"data\", \"cat0h2.off\")) # Head of the cat0 mesh\n",
    "v4, f4 = igl.read_triangle_mesh(os.path.join(root_folder, \"data\", \"cat0.off\")) # Full cat mesh\n",
    "\n",
    "vhnew = myICP(vh,v4)\n",
    "fig3 = plot(v4,f4,return_plot=True) # Plot cat0 mesh\n",
    "fig3.add_points(vh,shading={\"point_color\": \"red\", \"point_size\": 5}) # Plot points of original head of cat\n",
    "fig3.add_points(vnew,shading={\"point_color\": \"blue\", \"point_size\": 5}) # Plot points of aligned head of cat"
   ]
  },
  {
   "cell_type": "markdown",
   "id": "9463642e",
   "metadata": {},
   "source": [
    "# SVD Based Multidimensional Scaling(MDS)\n",
    "## Q.2. Complete the code for SVD based MDS given below and observe the results"
   ]
  },
  {
   "cell_type": "code",
   "execution_count": null,
   "id": "00e8908d",
   "metadata": {},
   "outputs": [],
   "source": [
    "# Define a function that takes in pointwise distance between points of a mesh, and outputs a 3 dimensional \n",
    "# canonical embedding\n",
    "# Distance matrices for two meshes, cat0 and cat4 are given in the data folder as discat0.npy and discat4.npy\n",
    "def mySVDbasedMDS(d):\n",
    "    #Step 1: Depending on the number of points of the mesh, define the centering matrix (J)\n",
    "    #Step 2: From J, compute the matrix B = -0.5JDJ\n",
    "    #Step 3: Compute its SVD B = U*S*V^T\n",
    "    #Step 4: Compute the embedding Y as U[0:3]*sqrt{diag([S(0),S(1),S(2)])}, and return Y"
   ]
  },
  {
   "cell_type": "code",
   "execution_count": 5,
   "id": "e194a48e",
   "metadata": {},
   "outputs": [],
   "source": [
    "# Run the SVD based MDS on cat0 and cat4 here and display the obtained embedding\n",
    "v0, f0 = igl.read_triangle_mesh(os.path.join(root_folder, \"data\", \"cat0.off\"))\n",
    "v4, f4 = igl.read_triangle_mesh(os.path.join(root_folder, \"data\", \"cat4.off\"))\n",
    "\n",
    "d0 = np.load('data/discat0.npy')\n",
    "d4 = np.load('data/discat4.npy')\n",
    "\n",
    "# v0emb = mySVDbasedMDS(d0)\n",
    "# v4emb = mySVDbasedMDS(d4)\n"
   ]
  },
  {
   "cell_type": "code",
   "execution_count": null,
   "id": "31f34374",
   "metadata": {},
   "outputs": [],
   "source": [
    "plot(vo,f0)\n",
    "plot(v4,f4)"
   ]
  },
  {
   "cell_type": "code",
   "execution_count": null,
   "id": "cfb2d770",
   "metadata": {},
   "outputs": [],
   "source": [
    "# Display the Results\n",
    "fig = plot(v0emb,f0,return_plot=True)\n",
    "fig.add_points(v4emb,shading={\"point_color\": \"red\", \"point_size\": 2})"
   ]
  }
 ],
 "metadata": {
  "kernelspec": {
   "display_name": "Python 3",
   "language": "python",
   "name": "python3"
  },
  "language_info": {
   "codemirror_mode": {
    "name": "ipython",
    "version": 3
   },
   "file_extension": ".py",
   "mimetype": "text/x-python",
   "name": "python",
   "nbconvert_exporter": "python",
   "pygments_lexer": "ipython3",
   "version": "3.8.8"
  },
  "varInspector": {
   "cols": {
    "lenName": 16,
    "lenType": 16,
    "lenVar": 40
   },
   "kernels_config": {
    "python": {
     "delete_cmd_postfix": "",
     "delete_cmd_prefix": "del ",
     "library": "var_list.py",
     "varRefreshCmd": "print(var_dic_list())"
    },
    "r": {
     "delete_cmd_postfix": ") ",
     "delete_cmd_prefix": "rm(",
     "library": "var_list.r",
     "varRefreshCmd": "cat(var_dic_list()) "
    }
   },
   "types_to_exclude": [
    "module",
    "function",
    "builtin_function_or_method",
    "instance",
    "_Feature"
   ],
   "window_display": false
  }
 },
 "nbformat": 4,
 "nbformat_minor": 5
}
