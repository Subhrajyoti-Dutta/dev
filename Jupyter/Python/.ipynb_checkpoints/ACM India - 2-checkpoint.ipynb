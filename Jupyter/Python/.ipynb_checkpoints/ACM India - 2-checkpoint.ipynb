{
 "cells": [
  {
   "cell_type": "code",
   "execution_count": 25,
   "id": "e3995cd9",
   "metadata": {},
   "outputs": [],
   "source": [
    "import numpy as np\n",
    "import matplotlib.pyplot as plt"
   ]
  },
  {
   "cell_type": "code",
   "execution_count": 2,
   "id": "8b665237",
   "metadata": {},
   "outputs": [
    {
     "data": {
      "text/plain": [
       "[[(1+1j), (-1+1j)], [(-1-1j), (1-1j)]]"
      ]
     },
     "execution_count": 2,
     "metadata": {},
     "output_type": "execute_result"
    }
   ],
   "source": [
    "a = [\n",
    "    [1+1j, -1+1j],\n",
    "    [-1-1j, 1-1j]\n",
    "]\n",
    "a"
   ]
  },
  {
   "cell_type": "code",
   "execution_count": 18,
   "id": "6e035882",
   "metadata": {},
   "outputs": [
    {
     "data": {
      "text/plain": [
       "array([[ 1.+1.j, -1.+1.j],\n",
       "       [-1.-1.j,  1.-1.j]])"
      ]
     },
     "execution_count": 18,
     "metadata": {},
     "output_type": "execute_result"
    }
   ],
   "source": [
    "arr = np.array(a)\n",
    "arr"
   ]
  },
  {
   "cell_type": "code",
   "execution_count": 238,
   "id": "fde8335e",
   "metadata": {},
   "outputs": [],
   "source": [
    "def rotate(arr, angle, deg=False):\n",
    "    if deg:\n",
    "        angle = angle/180*np.pi\n",
    "    return np.around(arr * np.exp(angle*1j),6)"
   ]
  },
  {
   "cell_type": "code",
   "execution_count": 239,
   "id": "35eaa3f6",
   "metadata": {},
   "outputs": [],
   "source": [
    "def translate(arr, direction):\n",
    "    return arr + direction"
   ]
  },
  {
   "cell_type": "code",
   "execution_count": 128,
   "id": "a4ce33bc",
   "metadata": {},
   "outputs": [],
   "source": [
    "def scale(arr, mag, origin = 0+0*1j):\n",
    "    return (arr - origin) * mag + origin"
   ]
  },
  {
   "cell_type": "code",
   "execution_count": 191,
   "id": "aeecb439",
   "metadata": {},
   "outputs": [],
   "source": [
    "def getReq(aspectRatio=1, origin=0+0*1j, xLen = None):                      #aspectRatio = Y/X\n",
    "    if xLen == None:\n",
    "        xLen = np.random.randn()+1\n",
    "    return np.array([\n",
    "        [origin + xLen*aspectRatio*1j/2 - xLen/2, origin + xLen*aspectRatio*1j/2 + xLen/2],\n",
    "        [origin - xLen*aspectRatio*1j/2 - xLen/2, origin - xLen*aspectRatio*1j/2 + xLen/2]\n",
    "    ])"
   ]
  },
  {
   "cell_type": "code",
   "execution_count": 214,
   "id": "553a78a8",
   "metadata": {},
   "outputs": [],
   "source": [
    "def plot(arr):\n",
    "    xCorr = arr.real\n",
    "    yCorr = arr.imag\n",
    "\n",
    "    plt.axhline(0, color='#86bfd1',)\n",
    "    plt.axvline(0, color='#86bfd1')\n",
    "    plt.grid()\n",
    "    plt.xlim(xCorr.min()-1,xCorr.max()+1)\n",
    "    plt.ylim(yCorr.min()-1,yCorr.max()+1)\n",
    "    plt.axis('equal')\n",
    "#     plt.tight_layout()\n",
    "    n = 1\n",
    "    for i, j in zip(xCorr.reshape(-1), yCorr.reshape(-1)):\n",
    "        plt.text(i, j, f\"P{n}({i:0.3f},{j:0.3f})\")\n",
    "        n+=1\n",
    "    return plt.scatter(xCorr,yCorr)"
   ]
  },
  {
   "cell_type": "code",
   "execution_count": 237,
   "id": "2b4483f9",
   "metadata": {},
   "outputs": [
    {
     "data": {
      "text/plain": [
       "1.072741396730871"
      ]
     },
     "execution_count": 237,
     "metadata": {},
     "output_type": "execute_result"
    }
   ],
   "source": [
    "def randomAspectRatio():\n",
    "    return np.random.rand()**np.random.choice([1,-1])\n",
    "\n",
    "def randomTheta():\n",
    "    return np.random.rand()*2*np.pi\n",
    "\n",
    "def randomTranslation():\n",
    "    return (np.random.rand()-0.5)*20 + (np.random.rand()-0.5)*20j\n",
    "\n",
    "aspect_ratio = np.random.rand()**np.random.choice([1,-1])\n",
    "aspect_ratio"
   ]
  },
  {
   "cell_type": "code",
   "execution_count": 212,
   "id": "b0124f15",
   "metadata": {},
   "outputs": [
    {
     "data": {
      "text/plain": [
       "4.6381090166541235"
      ]
     },
     "execution_count": 212,
     "metadata": {},
     "output_type": "execute_result"
    }
   ],
   "source": [
    "theta = np.random.rand()*2*np.pi\n",
    "theta"
   ]
  },
  {
   "cell_type": "code",
   "execution_count": 220,
   "id": "32d97f9e",
   "metadata": {},
   "outputs": [
    {
     "data": {
      "text/plain": [
       "(-1.7589461038190635-5.1404224725939525j)"
      ]
     },
     "execution_count": 220,
     "metadata": {},
     "output_type": "execute_result"
    }
   ],
   "source": [
    "translation = (np.random.rand()-0.5)*20 + (np.random.rand()-0.5)*20j\n",
    "translation"
   ]
  },
  {
   "cell_type": "code",
   "execution_count": 134,
   "id": "248e6b13",
   "metadata": {},
   "outputs": [
    {
     "data": {
      "text/plain": [
       "0.614727607108751"
      ]
     },
     "execution_count": 134,
     "metadata": {},
     "output_type": "execute_result"
    }
   ],
   "source": [
    "scale = np.random.rand()**np.random.choice([1,-1])\n",
    "scale"
   ]
  },
  {
   "cell_type": "code",
   "execution_count": 175,
   "id": "753b8cf1",
   "metadata": {},
   "outputs": [
    {
     "data": {
      "text/plain": [
       "array([[-1.        +2.95610163j, -0.42305095+2.95610163j],\n",
       "       [-1.        +1.j        , -0.42305095+1.j        ]])"
      ]
     },
     "execution_count": 175,
     "metadata": {},
     "output_type": "execute_result"
    }
   ],
   "source": [
    "arr = getReq(aspect_ratio, start = -1+1j)\n",
    "arr"
   ]
  },
  {
   "cell_type": "code",
   "execution_count": 215,
   "id": "7609d47e",
   "metadata": {},
   "outputs": [
    {
     "data": {
      "text/plain": [
       "<matplotlib.collections.PathCollection at 0x7fe03ee6f250>"
      ]
     },
     "execution_count": 215,
     "metadata": {},
     "output_type": "execute_result"
    },
    {
     "data": {
      "image/png": "[encoded data removed]",
      "text/plain": [
       "<Figure size 432x288 with 1 Axes>"
      ]
     },
     "metadata": {
      "needs_background": "light"
     },
     "output_type": "display_data"
    }
   ],
   "source": [
    "plot(arr)"
   ]
  },
  {
   "cell_type": "code",
   "execution_count": 216,
   "id": "7a326b31",
   "metadata": {},
   "outputs": [
    {
     "data": {
      "text/plain": [
       "<matplotlib.collections.PathCollection at 0x7fe03ede7280>"
      ]
     },
     "execution_count": 216,
     "metadata": {},
     "output_type": "execute_result"
    },
    {
     "data": {
      "image/png": "[encoded data removed]",
      "text/plain": [
       "<Figure size 432x288 with 1 Axes>"
      ]
     },
     "metadata": {
      "needs_background": "light"
     },
     "output_type": "display_data"
    }
   ],
   "source": [
    "plot(rotate(arr, theta))"
   ]
  },
  {
   "cell_type": "code",
   "execution_count": 221,
   "id": "d95ac991",
   "metadata": {},
   "outputs": [
    {
     "data": {
      "text/plain": [
       "array([[ 1.2632159-4.36255747j,  1.2203999-4.93791547j],\n",
       "       [-0.6874921-4.21739147j, -0.7303081-4.79274947j]])"
      ]
     },
     "execution_count": 221,
     "metadata": {},
     "output_type": "execute_result"
    }
   ],
   "source": [
    "transformation = translate(rotate(arr,theta), translation)\n",
    "transformation"
   ]
  },
  {
   "cell_type": "code",
   "execution_count": 222,
   "id": "b56a85f8",
   "metadata": {
    "scrolled": true
   },
   "outputs": [
    {
     "data": {
      "text/plain": [
       "<matplotlib.collections.PathCollection at 0x7fe03ed5fb20>"
      ]
     },
     "execution_count": 222,
     "metadata": {},
     "output_type": "execute_result"
    },
    {
     "data": {
      "image/png": "[encoded data removed]",
      "text/plain": [
       "<Figure size 432x288 with 1 Axes>"
      ]
     },
     "metadata": {
      "needs_background": "light"
     },
     "output_type": "display_data"
    }
   ],
   "source": [
    "plot(transformation)"
   ]
  },
  {
   "cell_type": "code",
   "execution_count": 187,
   "id": "30c95aa9",
   "metadata": {},
   "outputs": [],
   "source": [
    "def getEigenVec(arr, kth = 0, allVec = False):\n",
    "    if allVec:\n",
    "        return np.linalg.eig(arr)[1]\n",
    "    eigval, eigvec = np.linalg.eig(arr)\n",
    "    return eigvec[np.argpartition(eigval, -kth)[-kth:]].min()"
   ]
  },
  {
   "cell_type": "code",
   "execution_count": 233,
   "id": "203bacc4",
   "metadata": {},
   "outputs": [],
   "source": [
    "def originate(v):\n",
    "    return v - v.mean()\n",
    "\n",
    "def unit(v):\n",
    "    return (v**2).sum()**0.5\n",
    "\n",
    "def theta_opt(r, r0):\n",
    "    return np.angle(r0.conj()@r)\n",
    "\n",
    "def alignment(r0,r):\n",
    "#     assert x.shape == y.shape\n",
    "#     assert x0.shape == y0.shape\n",
    "    \n",
    "#     (x0,y0,x,y) = (x0.copy(),y0.copy(),x.copy(),y.copy())\n",
    "    \n",
    "#     x0 -= x0.mean()\n",
    "#     y0 -= y0.mean\n",
    "    \n",
    "    r0, r = r0.copy(), r.copy()\n",
    "    \n",
    "    \n",
    "    r0 = originate(r0)\n",
    "    r0 = unit(r0)\n",
    "    \n",
    "    r = np.apply_along_axis(lambda x : rotate(unit(originate(x)),theta_opt(x,r0)), 1, r)\n",
    "    \n",
    "    return r"
   ]
  },
  {
   "cell_type": "code",
   "execution_count": 241,
   "id": "e9cb4d69",
   "metadata": {},
   "outputs": [
    {
     "data": {
      "text/plain": [
       "array([[[  2.57484783 -2.59551712j,   3.14396583 -1.12270212j],\n",
       "        [  5.21569583 -3.61598012j,   5.78481383 -2.14316512j]],\n",
       "\n",
       "       [[  4.47252183 -8.66813092j,   3.64203483 -9.47890492j],\n",
       "        [  3.96760083 -8.15093292j,   3.13711383 -8.96170692j]],\n",
       "\n",
       "       [[-13.42012297 -7.55383279j, -13.73966897 -7.30535779j],\n",
       "        [  9.03800503+21.32804621j,   8.71845903+21.57652121j]],\n",
       "\n",
       "       [[  0.33083712 -5.49511414j,   0.67114512 -6.93134214j],\n",
       "        [ -0.95974688 -5.80091214j,  -0.61943888 -7.23714014j]],\n",
       "\n",
       "       [[  2.34953381 -2.65042859j,   0.38671081 -4.39207859j],\n",
       "        [  0.07744681 -0.08980859j,  -1.88537619 -1.83145859j]],\n",
       "\n",
       "       [[ -5.78654775 -6.41814958j,  -6.11078875 -6.88348458j],\n",
       "        [ -5.94302675 -6.30911658j,  -6.26726775 -6.77445158j]],\n",
       "\n",
       "       [[  2.05245256 -7.00557636j,   2.30312056 -6.19770336j],\n",
       "        [  5.48236456 -8.06981536j,   5.73303256 -7.26194236j]],\n",
       "\n",
       "       [[  1.19861971 +7.45164823j,   1.15214271 +7.37505523j],\n",
       "        [  0.84314671 +7.66735323j,   0.79666971 +7.59076023j]],\n",
       "\n",
       "       [[  7.88789631 +1.5439714j ,   7.76310731 +1.9358734j ],\n",
       "        [  9.88717331 +2.1805734j ,   9.76238431 +2.5724754j ]],\n",
       "\n",
       "       [[ -1.7242298  +0.62473802j,  -1.9762758  +1.65518402j],\n",
       "        [ -1.0460898  +0.79061002j,  -1.2981358  +1.82105602j]]])"
      ]
     },
     "execution_count": 241,
     "metadata": {},
     "output_type": "execute_result"
    }
   ],
   "source": [
    "def getNRec(n=10):\n",
    "    return np.array([\n",
    "        translate(\n",
    "            rotate(\n",
    "                getReq(\n",
    "                    aspectRatio = randomAspectRatio()\n",
    "                ),\n",
    "                angle = randomTheta()\n",
    "            ),\n",
    "            direction = randomTranslation()\n",
    "        ) for _ in range(n)])\n",
    "\n",
    "getNRec()"
   ]
  },
  {
   "cell_type": "code",
   "execution_count": 228,
   "id": "317b0cfd",
   "metadata": {},
   "outputs": [],
   "source": []
  },
  {
   "cell_type": "code",
   "execution_count": null,
   "id": "cf1e2690",
   "metadata": {},
   "outputs": [],
   "source": []
  }
 ],
 "metadata": {
  "kernelspec": {
   "display_name": "Python 3 (ipykernel)",
   "language": "python",
   "name": "python3"
  },
  "language_info": {
   "codemirror_mode": {
    "name": "ipython",
    "version": 3
   },
   "file_extension": ".py",
   "mimetype": "text/x-python",
   "name": "python",
   "nbconvert_exporter": "python",
   "pygments_lexer": "ipython3",
   "version": "3.9.12"
  }
 },
 "nbformat": 4,
 "nbformat_minor": 5
}
