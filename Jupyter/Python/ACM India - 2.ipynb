{
 "cells": [
  {
   "cell_type": "code",
   "execution_count": 242,
   "id": "e3995cd9",
   "metadata": {},
   "outputs": [],
   "source": [
    "import numpy as np\n",
    "import matplotlib.pyplot as plt"
   ]
  },
  {
   "cell_type": "code",
   "execution_count": 243,
   "id": "fde8335e",
   "metadata": {},
   "outputs": [],
   "source": [
    "def rotate(arr, angle, deg=False):\n",
    "    if deg:\n",
    "        angle = angle/180*np.pi\n",
    "    return np.around(arr * np.exp(angle*1j),6)"
   ]
  },
  {
   "cell_type": "code",
   "execution_count": 244,
   "id": "35eaa3f6",
   "metadata": {},
   "outputs": [],
   "source": [
    "def translate(arr, direction):\n",
    "    return arr + direction"
   ]
  },
  {
   "cell_type": "code",
   "execution_count": 245,
   "id": "a4ce33bc",
   "metadata": {},
   "outputs": [],
   "source": [
    "def scale(arr, mag, origin = 0+0*1j):\n",
    "    return (arr - origin) * mag + origin"
   ]
  },
  {
   "cell_type": "code",
   "execution_count": 246,
   "id": "aeecb439",
   "metadata": {},
   "outputs": [],
   "source": [
    "def getReq(aspectRatio=1, origin=0+0*1j, xLen = None):                      #aspectRatio = Y/X\n",
    "    if xLen == None:\n",
    "        xLen = np.random.randn()+1\n",
    "    return np.array([\n",
    "        [origin + xLen*aspectRatio*1j/2 - xLen/2, origin + xLen*aspectRatio*1j/2 + xLen/2],\n",
    "        [origin - xLen*aspectRatio*1j/2 - xLen/2, origin - xLen*aspectRatio*1j/2 + xLen/2]\n",
    "    ])"
   ]
  },
  {
   "cell_type": "code",
   "execution_count": 257,
   "id": "553a78a8",
   "metadata": {},
   "outputs": [],
   "source": [
    "def plot(arr):\n",
    "    xCorr = arr.real\n",
    "    yCorr = arr.imag\n",
    "\n",
    "    plt.axhline(0, color='#86bfd1',)\n",
    "    plt.axvline(0, color='#86bfd1')\n",
    "    plt.grid()\n",
    "    plt.xlim(xCorr.min()-1,xCorr.max()+1)\n",
    "    plt.ylim(yCorr.min()-1,yCorr.max()+1)\n",
    "    plt.axis('equal')\n",
    "#     plt.tight_layout()\n",
    "#     n = 1\n",
    "#     for i, j in zip(xCorr.reshape(-1), yCorr.reshape(-1)):\n",
    "#         plt.text(i, j, f\"P{n}({i:0.3f},{j:0.3f})\")\n",
    "#         n+=1\n",
    "    return plt.scatter(xCorr,yCorr)"
   ]
  },
  {
   "cell_type": "code",
   "execution_count": 254,
   "id": "2b4483f9",
   "metadata": {},
   "outputs": [],
   "source": [
    "def randomAspectRatio():\n",
    "    return np.random.rand()**np.random.choice([1,-1])\n",
    "\n",
    "def randomTheta():\n",
    "    return np.random.rand()*2*np.pi\n",
    "\n",
    "def randomTranslation():\n",
    "    return (np.random.rand()-0.5)*8 + (np.random.rand()-0.5)*8j\n"
   ]
  },
  {
   "cell_type": "code",
   "execution_count": 250,
   "id": "30c95aa9",
   "metadata": {},
   "outputs": [],
   "source": [
    "def getEigenVec(arr, kth = 0, allVec = False):\n",
    "    if allVec:\n",
    "        return np.linalg.eig(arr)[1]\n",
    "    eigval, eigvec = np.linalg.eig(arr)\n",
    "    return eigvec[np.argpartition(eigval, -kth)[-kth:]].min()"
   ]
  },
  {
   "cell_type": "code",
   "execution_count": 283,
   "id": "203bacc4",
   "metadata": {},
   "outputs": [],
   "source": [
    "def originate(v):\n",
    "    return v - v.mean()\n",
    "\n",
    "def unit(v):\n",
    "    return v/np.abs(v)\n",
    "\n",
    "def theta_opt(r, r0):\n",
    "    return np.angle(r0.conj()@r)\n",
    "\n",
    "def alignment(r0,r):\n",
    "#     assert x.shape == y.shape\n",
    "#     assert x0.shape == y0.shape\n",
    "    \n",
    "#     (x0,y0,x,y) = (x0.copy(),y0.copy(),x.copy(),y.copy())\n",
    "    \n",
    "#     x0 -= x0.mean()\n",
    "#     y0 -= y0.mean\n",
    "    \n",
    "    r0, r = r0.copy(), r.copy()\n",
    "    \n",
    "    \n",
    "    r0 = originate(r0)\n",
    "    r0 = unit(r0)\n",
    "    \n",
    "    r = np.apply_along_axis(lambda x : rotate(unit(originate(x)),theta_opt(x,r0)), 1, r)\n",
    "    \n",
    "    return r"
   ]
  },
  {
   "cell_type": "code",
   "execution_count": 291,
   "id": "e9cb4d69",
   "metadata": {},
   "outputs": [
    {
     "data": {
      "text/plain": [
       "array([[[ 1.69460747-3.77863519j,  1.31585747-3.18937219j],\n",
       "        [ 1.96351947-3.60579219j,  1.58476947-3.01652919j]],\n",
       "\n",
       "       [[-1.48533951-0.72905557j, -2.74615051-1.45063557j],\n",
       "        [-4.02309051+3.70513043j, -5.28390151+2.98355043j]],\n",
       "\n",
       "       [[-1.21310135-3.5560769j , -0.08648435-2.3599699j ],\n",
       "        [-0.49910035-4.2285959j ,  0.62751665-3.0324889j ]],\n",
       "\n",
       "       [[-4.79333014+2.55885875j, -3.50555814+3.68975975j],\n",
       "        [-4.12219014+1.79462375j, -2.83441814+2.92552475j]],\n",
       "\n",
       "       [[ 3.13565572+2.05839876j,  2.81430472+2.25207476j],\n",
       "        [ 3.20485872+2.17322276j,  2.88350772+2.36689876j]],\n",
       "\n",
       "       [[ 3.35800788-0.13038085j,  1.75897788+1.48557715j],\n",
       "        [ 4.24757388+0.74986715j,  2.64854388+2.36582515j]],\n",
       "\n",
       "       [[ 0.96919915-1.11604038j,  0.71193615-0.36259438j],\n",
       "        [ 1.44483215-0.95363638j,  1.18756915-0.20019038j]],\n",
       "\n",
       "       [[ 2.9037983 -4.82454482j,  1.2600103 -3.63004282j],\n",
       "        [ 3.5557163 -3.92742082j,  1.9119283 -2.73291882j]],\n",
       "\n",
       "       [[-0.73854027+2.71248902j,  0.63738573+0.84981202j],\n",
       "        [-2.65064427+1.30005202j, -1.27471827-0.56262498j]],\n",
       "\n",
       "       [[ 3.17455546+2.13593658j,  4.02568046+1.94184058j],\n",
       "        [ 2.51684446-0.74818142j,  3.36796946-0.94227742j]]])"
      ]
     },
     "execution_count": 291,
     "metadata": {},
     "output_type": "execute_result"
    },
    {
     "data": {
      "image/png": "[encoded data removed]",
      "text/plain": [
       "<Figure size 432x288 with 1 Axes>"
      ]
     },
     "metadata": {
      "needs_background": "light"
     },
     "output_type": "display_data"
    }
   ],
   "source": [
    "def plotN(arr):\n",
    "    for i in arr: plot(i)\n",
    "\n",
    "def getNRec(n=10):\n",
    "    arr = np.array([\n",
    "        translate(\n",
    "            rotate(\n",
    "                getReq(\n",
    "                    aspectRatio = randomAspectRatio()\n",
    "                ),\n",
    "                angle = randomTheta()\n",
    "            ),\n",
    "            direction = randomTranslation()\n",
    "        ) for _ in range(n)])\n",
    "    \n",
    "    plotN(arr)\n",
    "        \n",
    "    return arr\n",
    "\n",
    "rec10 = getNRec()\n",
    "rec10"
   ]
  },
  {
   "cell_type": "code",
   "execution_count": 287,
   "id": "317b0cfd",
   "metadata": {},
   "outputs": [
    {
     "data": {
      "text/plain": [
       "array([[-0.07810379+0.07810379j,  0.07810379+0.07810379j],\n",
       "       [-0.07810379-0.07810379j,  0.07810379-0.07810379j]])"
      ]
     },
     "execution_count": 287,
     "metadata": {},
     "output_type": "execute_result"
    }
   ],
   "source": [
    "modal_corr = getReq()\n",
    "modal_corr"
   ]
  },
  {
   "cell_type": "code",
   "execution_count": 293,
   "id": "cf1e2690",
   "metadata": {},
   "outputs": [
    {
     "data": {
      "text/plain": [
       "array([[[ 0.517622+0.85561j ,  0.53866 +0.842523j],\n",
       "        [ 0.510218+0.860045j,  0.528088+0.84919j ]],\n",
       "\n",
       "       [[ 0.888946+0.458012j,  0.82519 +0.564855j],\n",
       "        [ 0.653524-0.756906j,  0.94687 -0.321617j]],\n",
       "\n",
       "       [[ 0.620447-0.784249j,  0.876771-0.480909j],\n",
       "        [ 0.51563 -0.856811j,  0.713007-0.701156j]],\n",
       "\n",
       "       [[-0.985884-0.167433j, -0.98066 +0.19572j ],\n",
       "        [-0.936907-0.349577j, -0.999714-0.023903j]],\n",
       "\n",
       "       [[-0.99807 -0.062104j, -0.98784 -0.155472j],\n",
       "        [-0.99954 -0.030315j, -0.9926  -0.121432j]],\n",
       "\n",
       "       [[-0.841936+0.539578j, -0.990148-0.140022j],\n",
       "        [-0.680406+0.732835j, -0.961034+0.276429j]],\n",
       "\n",
       "       [[ 0.283083+0.959095j, -0.275305+0.961357j],\n",
       "        [ 0.435222+0.900323j,  0.13707 +0.990561j]],\n",
       "\n",
       "       [[ 0.026651+0.999645j,  0.246774+0.969073j],\n",
       "        [-0.03544 +0.999372j,  0.102595+0.994723j]],\n",
       "\n",
       "       [[ 0.178545+0.983932j, -0.470176-0.882573j],\n",
       "        [ 0.250792+0.968041j,  0.183312+0.983055j]],\n",
       "\n",
       "       [[ 0.990315-0.138835j,  0.981822-0.189804j],\n",
       "        [ 0.918917+0.394452j,  0.991823+0.127623j]]])"
      ]
     },
     "execution_count": 293,
     "metadata": {},
     "output_type": "execute_result"
    }
   ],
   "source": [
    "newArr = alignment(modal_corr, rec10)\n",
    "newArr"
   ]
  },
  {
   "cell_type": "code",
   "execution_count": 294,
   "id": "61a58910",
   "metadata": {},
   "outputs": [
    {
     "data": {
      "image/png": "[encoded data removed]",
      "text/plain": [
       "<Figure size 432x288 with 1 Axes>"
      ]
     },
     "metadata": {
      "needs_background": "light"
     },
     "output_type": "display_data"
    }
   ],
   "source": [
    "plotN(newArr)"
   ]
  },
  {
   "cell_type": "code",
   "execution_count": null,
   "id": "b888e1a3",
   "metadata": {},
   "outputs": [],
   "source": []
  }
 ],
 "metadata": {
  "kernelspec": {
   "display_name": "Python 3 (ipykernel)",
   "language": "python",
   "name": "python3"
  },
  "language_info": {
   "codemirror_mode": {
    "name": "ipython",
    "version": 3
   },
   "file_extension": ".py",
   "mimetype": "text/x-python",
   "name": "python",
   "nbconvert_exporter": "python",
   "pygments_lexer": "ipython3",
   "version": "3.9.12"
  }
 },
 "nbformat": 4,
 "nbformat_minor": 5
}
