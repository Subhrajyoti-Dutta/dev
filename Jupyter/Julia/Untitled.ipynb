{
 "cells": [
  {
   "cell_type": "code",
   "execution_count": 60,
   "id": "6121b4f9-c84e-45bb-8a74-30b6cf0aadae",
   "metadata": {},
   "outputs": [],
   "source": [
    "using Distributions\n",
    "using Statistics"
   ]
  },
  {
   "cell_type": "code",
   "execution_count": 110,
   "id": "f5d5538c-9321-48e8-8e36-7037e0339ae1",
   "metadata": {},
   "outputs": [
    {
     "data": {
      "text/plain": [
       "10000000"
      ]
     },
     "execution_count": 110,
     "metadata": {},
     "output_type": "execute_result"
    }
   ],
   "source": [
    "m = 10\n",
    "n = 15\n",
    "iter = 10000000"
   ]
  },
  {
   "cell_type": "code",
   "execution_count": 111,
   "id": "81d04f58-cd89-497a-89b8-963d6883f827",
   "metadata": {},
   "outputs": [],
   "source": [
    "x = rand(Normal(0,1), (m, iter))\n",
    "x2 = x.^2\n",
    "y = rand(Exponential(1), (n, iter));"
   ]
  },
  {
   "cell_type": "code",
   "execution_count": 112,
   "id": "d15f35e7-5b3d-4e03-8139-920f21b750bc",
   "metadata": {},
   "outputs": [
    {
     "data": {
      "text/plain": [
       "1×10000000 Matrix{Float64}:\n",
       " 3.41149  0.898766  4.27597  0.300588  …  2.22714  2.78703  1.87512  2.62415"
      ]
     },
     "execution_count": 112,
     "metadata": {},
     "output_type": "execute_result"
    }
   ],
   "source": [
    "xBar = mean(x, dims = 1)\n",
    "x2Bar = mean(x2, dims = 1)\n",
    "yBar = mean(y, dims = 1)\n",
    "\n",
    "Sx = ( sum((x.-xBar).^2, dims = 1).+sum((y.-yBar).^2, dims = 1))./(m+n-2)\n",
    "test = abs.(xBar .- yBar)./(Sx .* (1/m+1/n)).^0.5"
   ]
  },
  {
   "cell_type": "code",
   "execution_count": 113,
   "id": "f61118ef-fa09-489e-ba5b-103cdd5625bb",
   "metadata": {},
   "outputs": [
    {
     "data": {
      "text/plain": [
       "0.6819975"
      ]
     },
     "execution_count": 113,
     "metadata": {},
     "output_type": "execute_result"
    }
   ],
   "source": [
    "pval = quantile(TDist(m+n-2), 0.975)\n",
    "count(test .> pval)/iter"
   ]
  },
  {
   "cell_type": "code",
   "execution_count": 115,
   "id": "8f489635-ede7-4947-88fe-d901b27f3c7d",
   "metadata": {},
   "outputs": [
    {
     "data": {
      "text/plain": [
       "0.6821251"
      ]
     },
     "execution_count": 115,
     "metadata": {},
     "output_type": "execute_result"
    }
   ],
   "source": [
    "m = 10\n",
    "n = 15\n",
    "iter = 10000000\n",
    "\n",
    "x = rand(Normal(0,1), (m, iter))\n",
    "x2 = x.^2\n",
    "y = rand(Exponential(1), (n, iter))\n",
    "\n",
    "xBar = mean(x, dims = 1)\n",
    "x2Bar = mean(x2, dims = 1)\n",
    "yBar = mean(y, dims = 1)\n",
    "\n",
    "Sx = ( sum((x.-xBar).^2, dims = 1).+sum((y.-yBar).^2, dims = 1))./(m+n-2)\n",
    "test = abs.(xBar .- yBar)./(Sx .* (1/m+1/n)).^0.5\n",
    "\n",
    "pval = quantile(TDist(m+n-2), 0.975)\n",
    "count(test .> pval)/iter"
   ]
  },
  {
   "cell_type": "code",
   "execution_count": null,
   "id": "648f69ee-72b3-4426-99de-b4ae12a15556",
   "metadata": {},
   "outputs": [],
   "source": []
  },
  {
   "cell_type": "code",
   "execution_count": null,
   "id": "a29a2c60-9e02-48d5-98c0-de8bd1b89a42",
   "metadata": {},
   "outputs": [],
   "source": []
  },
  {
   "cell_type": "code",
   "execution_count": null,
   "id": "a4ca11b0-3fe2-4528-9134-ee529a21144b",
   "metadata": {},
   "outputs": [],
   "source": []
  }
 ],
 "metadata": {
  "kernelspec": {
   "display_name": "Julia 1.9.1",
   "language": "julia",
   "name": "julia-1.9"
  },
  "language_info": {
   "file_extension": ".jl",
   "mimetype": "application/julia",
   "name": "julia",
   "version": "1.9.1"
  }
 },
 "nbformat": 4,
 "nbformat_minor": 5
}
