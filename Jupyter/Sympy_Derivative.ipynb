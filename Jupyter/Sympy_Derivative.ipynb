{
  "nbformat": 4,
  "nbformat_minor": 2,
  "metadata": {
    "colab": {
      "name": "Sympy Derivative",
      "provenance": [],
      "collapsed_sections": []
    },
    "kernelspec": {
      "name": "python3",
      "display_name": "Python 3.9.6 64-bit"
    },
    "language_info": {
      "name": "python",
      "version": "3.9.6",
      "mimetype": "text/x-python",
      "codemirror_mode": {
        "name": "ipython",
        "version": 3
      },
      "pygments_lexer": "ipython3",
      "nbconvert_exporter": "python",
      "file_extension": ".py"
    },
    "interpreter": {
      "hash": "397704579725e15f5c7cb49fe5f0341eb7531c82d19f2c29d197e8b64ab5776b"
    }
  },
  "cells": [
    {
      "cell_type": "code",
      "execution_count": 1,
      "source": [
        "import sympy as smp\n",
        "import numpy as np\n",
        "import math\n",
        "from IPython.display import display\n",
        "from sympy.abc import *"
      ],
      "outputs": [],
      "metadata": {
        "id": "HNBsr6wHfCLn"
      }
    },
    {
      "cell_type": "code",
      "execution_count": 2,
      "source": [
        "def simple(*arg,**kwarg): return smp.simplify(smp.factor(*arg,**kwarg))\n",
        "\n",
        "def derivative(f,*arg,**kwarg): return simple(smp.diff(f,*arg,**kwarg))\n",
        "\n",
        "def dir_derivative(f,var,pt,dir):\n",
        "    h = smp.symbols(\"h\")\n",
        "    f_h = f\n",
        "    for var_i, dir_i in tuple(zip(var,dir)):\n",
        "        f_h = f_h.subs(var_i,var_i+h*dir_i)\n",
        "    # display(f_h)\n",
        "    f_h_val = f_h\n",
        "    f_val = f\n",
        "    for var_i, pt_i in tuple(zip(var,pt)):\n",
        "        f_h_val = smp.limit(f_h_val,var_i,pt_i)\n",
        "        f_val = smp.limit(f_val,var_i,pt_i)\n",
        "    # display(smp.expand(f_h_val))\n",
        "    # display(f_val)\n",
        "    dir = simple((f_h_val-f_val)/h)\n",
        "    return (smp.limit(dir,h,0)),f_h_val"
      ],
      "outputs": [],
      "metadata": {
        "id": "yHDrLjopfcpO"
      }
    },
    {
      "cell_type": "markdown",
      "source": [
        "#Partial Derivative"
      ],
      "metadata": {
        "id": "z3kBEW5unbLs"
      }
    },
    {
      "cell_type": "code",
      "execution_count": 3,
      "source": [
        "l = smp.symbols(r\"\\lambda\")\n",
        "s = smp.symbols(r'\\sigma')\n",
        "display(l,s)"
      ],
      "outputs": [
        {
          "output_type": "display_data",
          "data": {
            "text/plain": [
              "\\lambda"
            ],
            "text/latex": [
              "$\\displaystyle \\lambda$"
            ]
          },
          "metadata": {}
        },
        {
          "output_type": "display_data",
          "data": {
            "text/plain": [
              "\\sigma"
            ],
            "text/latex": [
              "$\\displaystyle \\sigma$"
            ]
          },
          "metadata": {}
        }
      ],
      "metadata": {
        "colab": {
          "base_uri": "https://localhost:8080/",
          "height": 57
        },
        "id": "ZfDhSGbwuJZH",
        "outputId": "93226d0c-3fcd-4b71-c036-e3c3bf7e0129"
      }
    },
    {
      "cell_type": "code",
      "execution_count": 4,
      "source": [
        "f = smp.exp(l**2*s**2/2)\n",
        "simple(f)"
      ],
      "outputs": [
        {
          "output_type": "execute_result",
          "data": {
            "text/plain": [
              "exp(\\lambda**2*\\sigma**2/2)"
            ],
            "text/latex": [
              "$\\displaystyle e^{\\frac{\\lambda^{2} \\sigma^{2}}{2}}$"
            ]
          },
          "metadata": {},
          "execution_count": 4
        }
      ],
      "metadata": {
        "colab": {
          "base_uri": "https://localhost:8080/",
          "height": 43
        },
        "id": "v5LdIO-Ify3e",
        "outputId": "53feee20-f60b-4337-c346-d793cd2cf181"
      }
    },
    {
      "cell_type": "code",
      "execution_count": 5,
      "source": [
        "derivative(f,l)"
      ],
      "outputs": [
        {
          "output_type": "execute_result",
          "data": {
            "text/plain": [
              "\\lambda*\\sigma**2*exp(\\lambda**2*\\sigma**2/2)"
            ],
            "text/latex": [
              "$\\displaystyle \\lambda \\sigma^{2} e^{\\frac{\\lambda^{2} \\sigma^{2}}{2}}$"
            ]
          },
          "metadata": {},
          "execution_count": 5
        }
      ],
      "metadata": {
        "colab": {
          "base_uri": "https://localhost:8080/",
          "height": 43
        },
        "id": "5TU6mnxDf77Q",
        "outputId": "27bf3ce2-2e0e-4130-cd41-5e1d580d1907"
      }
    },
    {
      "cell_type": "code",
      "execution_count": 6,
      "source": [
        "f1 = f\n",
        "for i in range(10):\n",
        "    display(f1.subs(l,0))\n",
        "    f1 = derivative(f1,l)"
      ],
      "outputs": [
        {
          "output_type": "display_data",
          "data": {
            "text/plain": [
              "1"
            ],
            "text/latex": [
              "$\\displaystyle 1$"
            ]
          },
          "metadata": {}
        },
        {
          "output_type": "display_data",
          "data": {
            "text/plain": [
              "0"
            ],
            "text/latex": [
              "$\\displaystyle 0$"
            ]
          },
          "metadata": {}
        },
        {
          "output_type": "display_data",
          "data": {
            "text/plain": [
              "\\sigma**2"
            ],
            "text/latex": [
              "$\\displaystyle \\sigma^{2}$"
            ]
          },
          "metadata": {}
        },
        {
          "output_type": "display_data",
          "data": {
            "text/plain": [
              "0"
            ],
            "text/latex": [
              "$\\displaystyle 0$"
            ]
          },
          "metadata": {}
        },
        {
          "output_type": "display_data",
          "data": {
            "text/plain": [
              "3*\\sigma**4"
            ],
            "text/latex": [
              "$\\displaystyle 3 \\sigma^{4}$"
            ]
          },
          "metadata": {}
        },
        {
          "output_type": "display_data",
          "data": {
            "text/plain": [
              "0"
            ],
            "text/latex": [
              "$\\displaystyle 0$"
            ]
          },
          "metadata": {}
        },
        {
          "output_type": "display_data",
          "data": {
            "text/plain": [
              "15*\\sigma**6"
            ],
            "text/latex": [
              "$\\displaystyle 15 \\sigma^{6}$"
            ]
          },
          "metadata": {}
        },
        {
          "output_type": "display_data",
          "data": {
            "text/plain": [
              "0"
            ],
            "text/latex": [
              "$\\displaystyle 0$"
            ]
          },
          "metadata": {}
        },
        {
          "output_type": "display_data",
          "data": {
            "text/plain": [
              "105*\\sigma**8"
            ],
            "text/latex": [
              "$\\displaystyle 105 \\sigma^{8}$"
            ]
          },
          "metadata": {}
        },
        {
          "output_type": "display_data",
          "data": {
            "text/plain": [
              "0"
            ],
            "text/latex": [
              "$\\displaystyle 0$"
            ]
          },
          "metadata": {}
        }
      ],
      "metadata": {
        "colab": {
          "base_uri": "https://localhost:8080/",
          "height": 221
        },
        "id": "gXs3UutjvBFq",
        "outputId": "f6cfecdc-4f22-4f42-cd69-46c15c963b5e"
      }
    },
    {
      "cell_type": "code",
      "execution_count": 7,
      "source": [
        "derivative(f,y)"
      ],
      "outputs": [
        {
          "output_type": "execute_result",
          "data": {
            "text/plain": [
              "0"
            ],
            "text/latex": [
              "$\\displaystyle 0$"
            ]
          },
          "metadata": {},
          "execution_count": 7
        }
      ],
      "metadata": {
        "id": "odVwlRdAyj2m",
        "colab": {
          "base_uri": "https://localhost:8080/",
          "height": 37
        },
        "outputId": "ada8a421-4a98-4ef3-e95e-0d4975b36c8f"
      }
    },
    {
      "cell_type": "markdown",
      "source": [
        "#Directional Derivative"
      ],
      "metadata": {
        "id": "G9SXQkbInhGB"
      }
    },
    {
      "cell_type": "code",
      "execution_count": 8,
      "source": [
        "u1, u2 = smp.symbols(\"u1 u2\")"
      ],
      "outputs": [],
      "metadata": {
        "id": "_Kx5Yeups_2C"
      }
    },
    {
      "cell_type": "code",
      "execution_count": 9,
      "source": [
        "func = smp.exp(-x**2)\n",
        "pt = (r,)\n",
        "u = (1,)\n",
        "func"
      ],
      "outputs": [
        {
          "output_type": "execute_result",
          "data": {
            "text/plain": [
              "exp(-x**2)"
            ],
            "text/latex": [
              "$\\displaystyle e^{- x^{2}}$"
            ]
          },
          "metadata": {},
          "execution_count": 9
        }
      ],
      "metadata": {
        "id": "Pvx15SycHgVy",
        "colab": {
          "base_uri": "https://localhost:8080/",
          "height": 41
        },
        "outputId": "ac147650-0eb2-4ce4-d327-4e906d5ebd39"
      }
    },
    {
      "cell_type": "code",
      "execution_count": 10,
      "source": [
        "mod_u = smp.sqrt(sum([i ** 2 for i in u]))\n",
        "u_cap = [ui/mod_u for ui in u]\n",
        "dir_derivative(func,(x,y,z),pt,u_cap)[0]"
      ],
      "outputs": [
        {
          "output_type": "execute_result",
          "data": {
            "text/plain": [
              "-2*r*exp(-r**2)"
            ],
            "text/latex": [
              "$\\displaystyle - 2 r e^{- r^{2}}$"
            ]
          },
          "metadata": {},
          "execution_count": 10
        }
      ],
      "metadata": {
        "colab": {
          "base_uri": "https://localhost:8080/",
          "height": 41
        },
        "id": "0_zG6t8jxsmx",
        "outputId": "afd41c76-cbac-4020-d7e3-a4a5036c325e"
      }
    },
    {
      "cell_type": "code",
      "execution_count": 11,
      "source": [
        "func.subs(y,m*(x-a)+b)"
      ],
      "outputs": [
        {
          "output_type": "execute_result",
          "data": {
            "text/plain": [
              "exp(-x**2)"
            ],
            "text/latex": [
              "$\\displaystyle e^{- x^{2}}$"
            ]
          },
          "metadata": {},
          "execution_count": 11
        }
      ],
      "metadata": {
        "colab": {
          "base_uri": "https://localhost:8080/",
          "height": 41
        },
        "id": "T98oJZAtys0z",
        "outputId": "85ff9cd5-8c0d-46c5-a7d9-eb6cc08d1a24"
      }
    },
    {
      "cell_type": "code",
      "execution_count": 12,
      "source": [
        "simple(_)"
      ],
      "outputs": [
        {
          "output_type": "execute_result",
          "data": {
            "text/plain": [
              "exp(-x**2)"
            ],
            "text/latex": [
              "$\\displaystyle e^{- x^{2}}$"
            ]
          },
          "metadata": {},
          "execution_count": 12
        }
      ],
      "metadata": {
        "colab": {
          "base_uri": "https://localhost:8080/",
          "height": 41
        },
        "id": "wt0hi5qjzMT8",
        "outputId": "5404de13-f686-4c77-b3ae-c9bf0f29667b"
      }
    },
    {
      "cell_type": "code",
      "execution_count": 13,
      "source": [
        "smp.factor(_)"
      ],
      "outputs": [
        {
          "output_type": "execute_result",
          "data": {
            "text/plain": [
              "exp(-x**2)"
            ],
            "text/latex": [
              "$\\displaystyle e^{- x^{2}}$"
            ]
          },
          "metadata": {},
          "execution_count": 13
        }
      ],
      "metadata": {
        "colab": {
          "base_uri": "https://localhost:8080/",
          "height": 41
        },
        "id": "PFPUYT23zOPo",
        "outputId": "f0dfe4c8-dc36-472f-cfce-41069d23b034"
      }
    },
    {
      "cell_type": "code",
      "execution_count": 14,
      "source": [
        "derivative(_,x)"
      ],
      "outputs": [
        {
          "output_type": "execute_result",
          "data": {
            "text/plain": [
              "-2*x*exp(-x**2)"
            ],
            "text/latex": [
              "$\\displaystyle - 2 x e^{- x^{2}}$"
            ]
          },
          "metadata": {},
          "execution_count": 14
        }
      ],
      "metadata": {
        "colab": {
          "base_uri": "https://localhost:8080/",
          "height": 41
        },
        "id": "5rSRnB6FzQys",
        "outputId": "9cf064f6-c4a8-4580-cecc-b12f996952cc"
      }
    },
    {
      "cell_type": "code",
      "execution_count": 15,
      "source": [
        "_.subs(x,a)"
      ],
      "outputs": [
        {
          "output_type": "execute_result",
          "data": {
            "text/plain": [
              "-2*a*exp(-a**2)"
            ],
            "text/latex": [
              "$\\displaystyle - 2 a e^{- a^{2}}$"
            ]
          },
          "metadata": {},
          "execution_count": 15
        }
      ],
      "metadata": {
        "colab": {
          "base_uri": "https://localhost:8080/",
          "height": 41
        },
        "id": "QIounPAGzbv-",
        "outputId": "0c4bcf78-daf6-4e13-d0bf-e53d8e16d61e"
      }
    },
    {
      "cell_type": "code",
      "execution_count": null,
      "source": [],
      "outputs": [],
      "metadata": {
        "id": "UYctL25bzjyP"
      }
    }
  ]
}